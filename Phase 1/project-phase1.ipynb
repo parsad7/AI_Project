{
 "metadata": {
  "kernelspec": {
   "name": "python3",
   "display_name": "Python 3",
   "language": "python"
  },
  "language_info": {
   "name": "python",
   "version": "3.11.13",
   "mimetype": "text/x-python",
   "codemirror_mode": {
    "name": "ipython",
    "version": 3
   },
   "pygments_lexer": "ipython3",
   "nbconvert_exporter": "python",
   "file_extension": ".py"
  },
  "colab": {
   "provenance": []
  },
  "kaggle": {
   "accelerator": "gpu",
   "dataSources": [
    {
     "sourceType": "datasetVersion",
     "sourceId": 1516242,
     "datasetId": 893591,
     "databundleVersionId": 1550527,
     "isSourceIdPinned": false
    }
   ],
   "dockerImageVersionId": 31090,
   "isInternetEnabled": true,
   "language": "python",
   "sourceType": "notebook",
   "isGpuEnabled": true
  }
 },
 "nbformat_minor": 5,
 "nbformat": 4,
 "cells": [
  {
   "id": "6c0ff76a",
   "cell_type": "markdown",
   "source": [
    "\n",
    "<br>\n",
    "<font>\n",
    "<div dir=ltr align=center>\n",
    "<img src=\"https://cdn.freebiesupply.com/logos/large/2x/sharif-logo-png-transparent.png\" width=150 height=150>\n",
    "<div dir=ltr align=center>\n",
    "<font color=0F5298 size=7>\n",
    "    Artificial Intelligence <br>\n",
    "<font color=2565AE size=5>\n",
    "    Computer Engineering Department <br>\n",
    "    Spring 2025<br>\n",
    "<font color=3C99D size=5>\n",
    "    Project-Phase1<br>\n",
    "    Image Segmentation<br>\n",
    "<font color=696880 size=4>\n",
    "    Shayan Baghayi Nejad-Armin Khosravi\n"
   ],
   "metadata": {
    "id": "6c0ff76a",
    "pycharm": {
     "name": "#%% md\n"
    }
   }
  },
  {
   "id": "123da0cc",
   "cell_type": "markdown",
   "source": [
    "<font size=5 color=cyan> Names: \n",
    "\n",
    "Mohammad Parsa Sadeghi\n",
    "\n",
    "Matin Zareh Bidaki\n",
    "\n",
    "</font>\n",
    "<font size=5 color=cyan> Student Numbers: </font>\n",
    "\n",
    "\n",
    "401109947\n",
    "\n",
    "401100166\n",
    "\n",
    "\n"
   ],
   "metadata": {
    "id": "123da0cc",
    "pycharm": {
     "name": "#%% md\n"
    }
   }
  },
  {
   "id": "69a4f949",
   "cell_type": "markdown",
   "source": [
    "# Introduction\n",
    "\n",
    "In this Project, we will become familiar with UNet architecture, Attention mechanism, and Residual blocks with the help of which we will build UNet, AttentionUNet, and ResidualAttentionUnet from scratch using PyTorch framework. The built models will be evaluated by various metrics such as accuracy, Iou score, and Dice score."
   ],
   "metadata": {
    "id": "69a4f949",
    "pycharm": {
     "name": "#%% md\n"
    }
   }
  },
  {
   "id": "add2691c",
   "cell_type": "markdown",
   "source": [
    "### Environment Setup\n",
    "\n",
    "Here you will find the required packages. Feel free to add the list."
   ],
   "metadata": {
    "id": "add2691c",
    "pycharm": {
     "name": "#%% md\n"
    }
   }
  },
  {
   "id": "a8c7abed",
   "cell_type": "code",
   "source": [
    "import os\n",
    "import shutil\n",
    "import numpy as np\n",
    "from PIL import Image\n",
    "import torch\n",
    "import torch.nn as nn\n",
    "import torch.nn.functional as F\n",
    "import kagglehub\n",
    "import matplotlib.pyplot as plt\n",
    "from torch.utils.data import Dataset, DataLoader\n",
    "from torchvision import transforms\n",
    "from torch.optim import Adam\n",
    "from tqdm import tqdm\n",
    "\n",
    "# Enable cuDNN autotuner for potentially faster performance on GPU\n",
    "if torch.cuda.is_available():\n",
    "    torch.backends.cudnn.benchmark = True\n",
    "\n",
    "device = 'cuda' if torch.cuda.is_available() else 'cpu'\n",
    "device"
   ],
   "metadata": {
    "id": "a8c7abed",
    "outputId": "b9d0270b-ee9a-4920-8c81-91364f9e45bf",
    "trusted": true,
    "execution": {
     "iopub.status.busy": "2025-09-13T12:09:08.142980Z",
     "iopub.execute_input": "2025-09-13T12:09:08.143459Z",
     "iopub.status.idle": "2025-09-13T12:09:08.150340Z",
     "shell.execute_reply.started": "2025-09-13T12:09:08.143426Z",
     "shell.execute_reply": "2025-09-13T12:09:08.149780Z"
    },
    "pycharm": {
     "name": "#%%\n"
    }
   },
   "outputs": [
    {
     "execution_count": 5,
     "output_type": "execute_result",
     "data": {
      "text/plain": "'cuda'"
     },
     "metadata": {}
    }
   ],
   "execution_count": 5
  },
  {
   "id": "b7a38d4c",
   "cell_type": "markdown",
   "source": [
    "### Hyperparameter Setting\n",
    "\n",
    "Place your hyperparameters' values in the cell below."
   ],
   "metadata": {
    "id": "b7a38d4c",
    "pycharm": {
     "name": "#%% md\n"
    }
   }
  },
  {
   "id": "af2bade6",
   "cell_type": "code",
   "source": [
    "# Root directory of the dataset. If you run the download cell, `path` will be defined.\n",
    "# We will fallback to it later when building paths if DATA_DIR is None.\n",
    "DATA_DIR = None\n",
    "\n",
    "# Image size (width, height)\n",
    "IMAGE_SIZE = (256, 256)\n",
    "\n",
    "# Training configuration\n",
    "BATCH_SIZE = 8\n",
    "NUM_WORKERS = max(2, (os.cpu_count() or 2) // 2)\n",
    "LR = 1e-3\n",
    "NUM_EPOCHS = 15"
   ],
   "metadata": {
    "id": "af2bade6",
    "trusted": true,
    "execution": {
     "iopub.status.busy": "2025-09-13T12:09:08.151710Z",
     "iopub.execute_input": "2025-09-13T12:09:08.152082Z",
     "iopub.status.idle": "2025-09-13T12:09:08.167201Z",
     "shell.execute_reply.started": "2025-09-13T12:09:08.152066Z",
     "shell.execute_reply": "2025-09-13T12:09:08.166506Z"
    },
    "pycharm": {
     "name": "#%%\n"
    }
   },
   "outputs": [],
   "execution_count": 6
  },
  {
   "id": "2ec03182",
   "cell_type": "markdown",
   "source": [
    "# Data Preparation\n",
    "\n",
    "Our task is to segment the [Massachusetts Road Dataset](https://www.kaggle.com/datasets/balraj98/massachusetts-roads-dataset). You can download this dataset by placing your API Token from kaggle in ```~/.kaggle/``` folder (Instructions can be found in the Kaggle website) and then running the code below."
   ],
   "metadata": {
    "id": "2ec03182",
    "pycharm": {
     "name": "#%% md\n"
    }
   }
  },
  {
   "id": "4bd65cfb",
   "cell_type": "code",
   "source": [
    "path = kagglehub.dataset_download(\"balraj98/massachusetts-roads-dataset\")\n",
    "\n",
    "print(\"Path to dataset files:\", path)"
   ],
   "metadata": {
    "id": "4bd65cfb",
    "trusted": true,
    "execution": {
     "iopub.status.busy": "2025-09-13T12:09:08.167899Z",
     "iopub.execute_input": "2025-09-13T12:09:08.168092Z",
     "iopub.status.idle": "2025-09-13T12:09:08.229057Z",
     "shell.execute_reply.started": "2025-09-13T12:09:08.168077Z",
     "shell.execute_reply": "2025-09-13T12:09:08.228515Z"
    },
    "pycharm": {
     "name": "#%%\n"
    }
   },
   "outputs": [
    {
     "name": "stdout",
     "text": "Path to dataset files: /kaggle/input/massachusetts-roads-dataset\n",
     "output_type": "stream"
    }
   ],
   "execution_count": 7
  },
  {
   "id": "c6ae940e",
   "cell_type": "markdown",
   "source": [
    "If you are running on colab, it is highly recommended to save the dataset to your drive to avoid problems when disconnecting from runtime."
   ],
   "metadata": {
    "id": "c6ae940e",
    "pycharm": {
     "name": "#%% md\n"
    }
   }
  },
  {
   "id": "7544f6e0",
   "cell_type": "code",
   "source": [
    "# from google.colab import drive\n",
    "\n",
    "# drive.mount('/content/drive')\n",
    "\n",
    "# shutil.move(path, '/content/drive/MyDrive/')"
   ],
   "metadata": {
    "id": "7544f6e0",
    "trusted": true,
    "execution": {
     "iopub.status.busy": "2025-09-13T12:09:08.229628Z",
     "iopub.execute_input": "2025-09-13T12:09:08.229816Z",
     "iopub.status.idle": "2025-09-13T12:09:08.233382Z",
     "shell.execute_reply.started": "2025-09-13T12:09:08.229799Z",
     "shell.execute_reply": "2025-09-13T12:09:08.232576Z"
    },
    "pycharm": {
     "name": "#%%\n"
    }
   },
   "outputs": [],
   "execution_count": 8
  },
  {
   "id": "978482b0",
   "cell_type": "markdown",
   "source": [
    "### Loading Images\n",
    "\n",
    "Load the images and their corresponding masks in two separate lists. (The cell below might take some time to execute.)"
   ],
   "metadata": {
    "id": "978482b0",
    "pycharm": {
     "name": "#%% md\n"
    }
   }
  },
  {
   "id": "d1030509",
   "cell_type": "code",
   "source": [
    "def load_images_and_masks(images_path, masks_path, image_size):\n",
    "    \"\"\"\n",
    "    Loads and preprocesses images and their corresponding masks.\n",
    "\n",
    "    Args:\n",
    "        images_path (str): Path to the directory containing input images.\n",
    "        masks_path (str): Path to the directory containing corresponding masks.\n",
    "        image_size (tuple): Desired size (width, height) to resize images and masks.\n",
    "\n",
    "    Returns:\n",
    "        images (list[str]): Sorted list of image file paths.\n",
    "        masks (list[str]): Sorted list of mask file paths.\n",
    "    \"\"\"\n",
    "    def list_files(p):\n",
    "        exts = {'.png', '.jpg', '.jpeg', '.tif', '.tiff', '.bmp'}\n",
    "        return sorted([\n",
    "            os.path.join(p, f) for f in os.listdir(p)\n",
    "            if os.path.splitext(f.lower())[1] in exts\n",
    "        ])\n",
    "\n",
    "    images = list_files(images_path)\n",
    "    masks = list_files(masks_path)\n",
    "\n",
    "    # Ensure same number and aligned ordering\n",
    "    if len(images) != len(masks):\n",
    "        raise ValueError(f\"Mismatched counts: {len(images)} images vs {len(masks)} masks\")\n",
    "\n",
    "    return images, masks\n",
    "\n",
    "\n",
    "# Prefer user-set DATA_DIR; otherwise fallback to the downloaded `path`\n",
    "_root = DATA_DIR if DATA_DIR else (globals().get('path', None))\n",
    "if _root is None:\n",
    "    raise RuntimeError(\"DATA_DIR is not set and dataset `path` is undefined. Run the download cell or set DATA_DIR.\")\n",
    "\n",
    "# Define training image and mask directories\n",
    "train_images_dir = os.path.join(_root, 'tiff/train')\n",
    "train_masks_dir = os.path.join(_root, 'tiff/train_labels')\n",
    "\n",
    "# Get paths or filenames for training images and masks\n",
    "train_images_path = train_images_dir\n",
    "train_masks_path = train_masks_dir\n",
    "\n",
    "# Load and preprocess training images and masks\n",
    "train_images, train_masks = load_images_and_masks(train_images_path, train_masks_path, IMAGE_SIZE)\n",
    "\n",
    "# Define validation image and mask directories\n",
    "val_images_dir = os.path.join(_root, 'tiff/val')\n",
    "val_masks_dir = os.path.join(_root, 'tiff/val_labels')\n",
    "\n",
    "# Get paths or filenames for validation images and masks\n",
    "val_images_path = val_images_dir\n",
    "val_masks_path = val_masks_dir\n",
    "\n",
    "# Load and preprocess validation images and masks\n",
    "val_images, val_masks = load_images_and_masks(val_images_path, val_masks_path, IMAGE_SIZE)\n"
   ],
   "metadata": {
    "id": "d1030509",
    "trusted": true,
    "execution": {
     "iopub.status.busy": "2025-09-13T12:09:08.235139Z",
     "iopub.execute_input": "2025-09-13T12:09:08.235681Z",
     "iopub.status.idle": "2025-09-13T12:09:08.309946Z",
     "shell.execute_reply.started": "2025-09-13T12:09:08.235663Z",
     "shell.execute_reply": "2025-09-13T12:09:08.309260Z"
    },
    "pycharm": {
     "name": "#%%\n"
    }
   },
   "outputs": [],
   "execution_count": 9
  },
  {
   "id": "bb001870",
   "cell_type": "markdown",
   "source": [
    "### Data Visualization\n",
    "\n",
    "Display the images and their masks for several samples."
   ],
   "metadata": {
    "id": "bb001870",
    "pycharm": {
     "name": "#%% md\n"
    }
   }
  },
  {
   "id": "76150940",
   "cell_type": "code",
   "source": [
    "def visualize_images_and_masks(images, masks, n=5):\n",
    "    \"\"\"\n",
    "    Visualizes 'n' images and their corresponding masks side by side.\n",
    "\n",
    "    Args:\n",
    "        images (array-like): Collection of input images or file paths.\n",
    "        masks (array-like): Collection of corresponding mask images or file paths.\n",
    "        n (int): Number of image-mask pairs to display.\n",
    "    \"\"\"\n",
    "    plt.figure(figsize=(8, 4 * n))\n",
    "\n",
    "    for i in range(n):\n",
    "        img = images[i]\n",
    "        msk = masks[i]\n",
    "        if isinstance(img, str):\n",
    "            img = Image.open(img).convert('RGB')\n",
    "        if isinstance(msk, str):\n",
    "            msk = Image.open(msk).convert('L')\n",
    "\n",
    "        plt.subplot(n, 2, 2*i + 1)\n",
    "        plt.imshow(img)\n",
    "        plt.axis('off')\n",
    "        plt.title('Image')\n",
    "\n",
    "        plt.subplot(n, 2, 2*i + 2)\n",
    "        plt.imshow(msk, cmap='gray')\n",
    "        plt.axis('off')\n",
    "        plt.title('Mask')\n",
    "\n",
    "    plt.tight_layout()\n",
    "    plt.show()"
   ],
   "metadata": {
    "id": "76150940",
    "outputId": "d60055f7-4f09-455e-eca4-953d7d9e4aad",
    "trusted": true,
    "execution": {
     "iopub.status.busy": "2025-09-13T12:09:08.310409Z",
     "iopub.execute_input": "2025-09-13T12:09:08.310571Z",
     "iopub.status.idle": "2025-09-13T12:09:08.315878Z",
     "shell.execute_reply.started": "2025-09-13T12:09:08.310557Z",
     "shell.execute_reply": "2025-09-13T12:09:08.315198Z"
    },
    "pycharm": {
     "name": "#%%\n"
    }
   },
   "outputs": [],
   "execution_count": 10
  },
  {
   "id": "eef7624b",
   "cell_type": "markdown",
   "source": [
    "### Dataset Creation\n",
    "\n",
    "Finally, we will make the dataset using the list of images we have stored."
   ],
   "metadata": {
    "id": "eef7624b",
    "pycharm": {
     "name": "#%% md\n"
    }
   }
  },
  {
   "id": "e22ec808",
   "cell_type": "code",
   "source": [
    "class RoadDataset(Dataset):\n",
    "    \"\"\"\n",
    "    Custom Dataset class for loading road images and their corresponding masks.\n",
    "\n",
    "    Args:\n",
    "        images (array-like): List or array of input images or file paths.\n",
    "        masks (array-like): List or array of corresponding masks or file paths.\n",
    "        image_transform (callable, optional): Transformation to apply to the images.\n",
    "        mask_transform (callable, optional): Transformation to apply to the masks.\n",
    "    \"\"\"\n",
    "    def __init__(self, images, masks, image_transform=None, mask_transform=None):\n",
    "        self.images = images\n",
    "        self.masks = masks\n",
    "        self.image_transform = image_transform\n",
    "        self.mask_transform = mask_transform\n",
    "\n",
    "    def __len__(self):\n",
    "        return len(self.images)\n",
    "\n",
    "    def __getitem__(self, idx):\n",
    "        image = self.images[idx]\n",
    "        mask = self.masks[idx]\n",
    "\n",
    "        if isinstance(image, str):\n",
    "            image = Image.open(image).convert('RGB')\n",
    "        if isinstance(mask, str):\n",
    "            mask = Image.open(mask).convert('L')\n",
    "\n",
    "        if self.image_transform:\n",
    "            image = self.image_transform(image)\n",
    "        else:\n",
    "            image = transforms.ToTensor()(image)\n",
    "\n",
    "        if self.mask_transform:\n",
    "            mask = self.mask_transform(mask)\n",
    "        else:\n",
    "            mask = transforms.ToTensor()(mask)\n",
    "            mask = (mask > 0.5).float()\n",
    "\n",
    "        return image, mask\n",
    "\n",
    "\n",
    "### Define your desired transformations\n",
    "image_transform = transforms.Compose([\n",
    "    transforms.Resize(IMAGE_SIZE, interpolation=Image.BILINEAR),\n",
    "    transforms.ToTensor(),\n",
    "])\n",
    "\n",
    "mask_transform = transforms.Compose([\n",
    "    transforms.Resize(IMAGE_SIZE, interpolation=Image.NEAREST),\n",
    "    transforms.ToTensor(),\n",
    "    transforms.Lambda(lambda x: (x > 0.5).float()),\n",
    "])\n",
    "\n",
    "\n",
    "\n",
    "train_dataset = RoadDataset(train_images, train_masks, image_transform, mask_transform)\n",
    "val_dataset   = RoadDataset(val_images, val_masks, image_transform, mask_transform)\n",
    "\n",
    "train_loader  = DataLoader(train_dataset, batch_size=BATCH_SIZE, shuffle=True,  num_workers=NUM_WORKERS, pin_memory=(device=='cuda'), persistent_workers=(NUM_WORKERS>0))\n",
    "val_loader    = DataLoader(val_dataset,   batch_size=BATCH_SIZE, shuffle=False, num_workers=NUM_WORKERS, pin_memory=(device=='cuda'), persistent_workers=(NUM_WORKERS>0))"
   ],
   "metadata": {
    "id": "e22ec808",
    "trusted": true,
    "execution": {
     "iopub.status.busy": "2025-09-13T12:09:08.316670Z",
     "iopub.execute_input": "2025-09-13T12:09:08.317302Z",
     "iopub.status.idle": "2025-09-13T12:09:08.333908Z",
     "shell.execute_reply.started": "2025-09-13T12:09:08.317284Z",
     "shell.execute_reply": "2025-09-13T12:09:08.333250Z"
    },
    "pycharm": {
     "name": "#%%\n"
    }
   },
   "outputs": [],
   "execution_count": 11
  },
  {
   "id": "89c6ee17",
   "cell_type": "markdown",
   "source": [
    "# UNet\n",
    "\n",
    "Before proceeding, it is necessary to understand the idea behind UNet. In order to avoid too much details in this notebook, you can read the complete paper for UNet from [this link](https://arxiv.org/pdf/1505.04597).\n",
    "\n",
    "The overall structure of UNet is provided in the image below.\n",
    "\n",
    "![UNet Architecture](https://viso.ai/wp-content/uploads/2024/04/unet-process.png)"
   ],
   "metadata": {
    "id": "89c6ee17",
    "pycharm": {
     "name": "#%% md\n"
    }
   }
  },
  {
   "id": "2e549668",
   "cell_type": "markdown",
   "source": [
    "### Convolution Block\n",
    "\n",
    "Convolution block is used at each level of UNet."
   ],
   "metadata": {
    "id": "2e549668",
    "pycharm": {
     "name": "#%% md\n"
    }
   }
  },
  {
   "id": "1e971c7a",
   "cell_type": "code",
   "source": [
    "class ConvBlock(nn.Module):\n",
    "    \"\"\"\n",
    "    A convolutional block consisting of multiple layers (e.g., Conv2D, BatchNorm, ReLU).\n",
    "\n",
    "    Args:\n",
    "        in_channel (int): Number of input channels.\n",
    "        out_channel (int): Number of output channels.\n",
    "    \"\"\"\n",
    "    def __init__(self, in_channel, out_channel):\n",
    "        super().__init__()\n",
    "        self.conv = nn.Sequential(\n",
    "            nn.Conv2d(in_channel, out_channel, kernel_size=3, padding=1, bias=False),\n",
    "            nn.BatchNorm2d(out_channel),\n",
    "            nn.ReLU(inplace=True),\n",
    "            nn.Conv2d(out_channel, out_channel, kernel_size=3, padding=1, bias=False),\n",
    "            nn.BatchNorm2d(out_channel),\n",
    "            nn.ReLU(inplace=True),\n",
    "        )\n",
    "\n",
    "    def forward(self, x):\n",
    "      return self.conv(x)"
   ],
   "metadata": {
    "id": "1e971c7a",
    "trusted": true,
    "execution": {
     "iopub.status.busy": "2025-09-13T12:09:08.334649Z",
     "iopub.execute_input": "2025-09-13T12:09:08.334853Z",
     "iopub.status.idle": "2025-09-13T12:09:08.353555Z",
     "shell.execute_reply.started": "2025-09-13T12:09:08.334831Z",
     "shell.execute_reply": "2025-09-13T12:09:08.352841Z"
    },
    "pycharm": {
     "name": "#%%\n"
    }
   },
   "outputs": [],
   "execution_count": 12
  },
  {
   "id": "4966b556",
   "cell_type": "markdown",
   "source": [
    "### Up Convoluitional Block\n",
    "\n",
    "We use another block to upsample the latent vector."
   ],
   "metadata": {
    "id": "4966b556",
    "pycharm": {
     "name": "#%% md\n"
    }
   }
  },
  {
   "id": "ba57654e",
   "cell_type": "code",
   "source": [
    "class UpConvBlock(nn.Module):\n",
    "    \"\"\"\n",
    "    An upsampling block used in decoder parts of segmentation networks like U-Net.\n",
    "\n",
    "    Args:\n",
    "        in_channel (int): Number of input channels.\n",
    "        out_channel (int): Number of output channels.\n",
    "    \"\"\"\n",
    "    def __init__(self, in_channel, out_channel):\n",
    "      super().__init__()\n",
    "      self.upconv = nn.Sequential(\n",
    "          nn.ConvTranspose2d(in_channel, out_channel, kernel_size=2, stride=2, bias=False),\n",
    "          nn.BatchNorm2d(out_channel),\n",
    "          nn.ReLU(inplace=True),\n",
    "      )\n",
    "\n",
    "    def forward(self, x):\n",
    "      return self.upconv(x)"
   ],
   "metadata": {
    "id": "ba57654e",
    "trusted": true,
    "execution": {
     "iopub.status.busy": "2025-09-13T12:09:08.354294Z",
     "iopub.execute_input": "2025-09-13T12:09:08.354484Z",
     "iopub.status.idle": "2025-09-13T12:09:08.371441Z",
     "shell.execute_reply.started": "2025-09-13T12:09:08.354469Z",
     "shell.execute_reply": "2025-09-13T12:09:08.370750Z"
    },
    "pycharm": {
     "name": "#%%\n"
    }
   },
   "outputs": [],
   "execution_count": 13
  },
  {
   "id": "4bcce31c",
   "cell_type": "markdown",
   "source": [
    "### Complete UNet Structure\n",
    "\n",
    "Now using the ```ConvBlock``` and ```UpConvBlock``` you created, complete the UNet architecture."
   ],
   "metadata": {
    "id": "4bcce31c",
    "pycharm": {
     "name": "#%% md\n"
    }
   }
  },
  {
   "id": "6fd32f6f",
   "cell_type": "code",
   "source": [
    "class UNet(nn.Module):\n",
    "    \"\"\"\n",
    "    U-Net architecture for image segmentation tasks.\n",
    "\n",
    "    Args:\n",
    "        in_channel (int): Number of input channels (e.g., 3 for RGB images).\n",
    "        out_channel (int): Number of output channels (e.g., 1 for binary segmentation).\n",
    "        filter (list): List of filter sizes for each level of the encoder/decoder.\n",
    "    \"\"\"\n",
    "    def __init__(self, in_channel=3, out_channel=1, filter=[64, 128, 256, 512]):\n",
    "        super().__init__()\n",
    "\n",
    "        # Encoder\n",
    "        self.enc1 = ConvBlock(in_channel, filter[0])\n",
    "        self.pool1 = nn.MaxPool2d(2)\n",
    "        self.enc2 = ConvBlock(filter[0], filter[1])\n",
    "        self.pool2 = nn.MaxPool2d(2)\n",
    "        self.enc3 = ConvBlock(filter[1], filter[2])\n",
    "        self.pool3 = nn.MaxPool2d(2)\n",
    "\n",
    "        # Bottleneck\n",
    "        self.bottleneck = ConvBlock(filter[2], filter[3])\n",
    "\n",
    "        # Decoder\n",
    "        self.up3 = UpConvBlock(filter[3], filter[2])\n",
    "        self.dec3 = ConvBlock(filter[3], filter[2])\n",
    "        self.up2 = UpConvBlock(filter[2], filter[1])\n",
    "        self.dec2 = ConvBlock(filter[2], filter[1])\n",
    "        self.up1 = UpConvBlock(filter[1], filter[0])\n",
    "        self.dec1 = ConvBlock(filter[1], filter[0])\n",
    "\n",
    "        # Final conv\n",
    "        self.final_conv = nn.Conv2d(filter[0], out_channel, kernel_size=1)\n",
    "        self.activation = nn.Sigmoid()\n",
    "\n",
    "    def forward(self, x):\n",
    "        # Encoder path\n",
    "        x1 = self.enc1(x)\n",
    "        p1 = self.pool1(x1)\n",
    "        x2 = self.enc2(p1)\n",
    "        p2 = self.pool2(x2)\n",
    "        x3 = self.enc3(p2)\n",
    "        p3 = self.pool3(x3)\n",
    "\n",
    "        # Bottleneck\n",
    "        x4 = self.bottleneck(p3)\n",
    "\n",
    "        # Decoder path\n",
    "        u3 = self.up3(x4)\n",
    "        d3 = self.dec3(torch.cat([u3, x3], dim=1))\n",
    "        u2 = self.up2(d3)\n",
    "        d2 = self.dec2(torch.cat([u2, x2], dim=1))\n",
    "        u1 = self.up1(d2)\n",
    "        d1 = self.dec1(torch.cat([u1, x1], dim=1))\n",
    "\n",
    "        out = self.final_conv(d1)\n",
    "        out = self.activation(out)\n",
    "        return out"
   ],
   "metadata": {
    "id": "6fd32f6f",
    "trusted": true,
    "execution": {
     "iopub.status.busy": "2025-09-13T12:09:08.372284Z",
     "iopub.execute_input": "2025-09-13T12:09:08.372955Z",
     "iopub.status.idle": "2025-09-13T12:09:08.387629Z",
     "shell.execute_reply.started": "2025-09-13T12:09:08.372927Z",
     "shell.execute_reply": "2025-09-13T12:09:08.386913Z"
    },
    "pycharm": {
     "name": "#%%\n"
    }
   },
   "outputs": [],
   "execution_count": 14
  },
  {
   "id": "1cc57fb9",
   "cell_type": "markdown",
   "source": [
    "# Attention UNet"
   ],
   "metadata": {
    "id": "1cc57fb9",
    "pycharm": {
     "name": "#%% md\n"
    }
   }
  },
  {
   "id": "2a5061be",
   "cell_type": "markdown",
   "source": [
    "### Attention Mechanism\n",
    "\n",
    "Attention UNet uses this mechanism to know what part the image is more important to attend to. You can read about this mechanism from [this link](https://arxiv.org/pdf/1706.03762). The Attention mechanism in UNet is described in [this paper](https://arxiv.org/pdf/1804.03999).\n",
    "\n",
    "\n",
    "![Attention](https://www.researchgate.net/publication/373655981/figure/fig3/AS:11431281186315360@1693879045519/Visualization-of-attention-blocks-reveals-their-functionality-While-the-self-attention.png)"
   ],
   "metadata": {
    "id": "2a5061be",
    "pycharm": {
     "name": "#%% md\n"
    }
   }
  },
  {
   "id": "bf440754",
   "cell_type": "code",
   "source": [
    "class AttentionBlock(nn.Module):\n",
    "    \"\"\"\n",
    "    Attention block for focusing on relevant features in skip connections.\n",
    "\n",
    "    Args:\n",
    "        f_g (int): Number of channels in the gating signal (from decoder).\n",
    "        f_l (int): Number of channels in the skip connection input (from encoder).\n",
    "        f_int (int): Number of intermediate channels used within the attention block.\n",
    "    \"\"\"\n",
    "    def __init__(self, f_g, f_l, f_int):\n",
    "      super().__init__()\n",
    "\n",
    "      self.w_g = nn.Sequential(\n",
    "          nn.Conv2d(f_g, f_int, kernel_size=1, stride=1, padding=0, bias=True),\n",
    "          nn.BatchNorm2d(f_int)\n",
    "      )\n",
    "\n",
    "      self.w_x = nn.Sequential(\n",
    "          nn.Conv2d(f_l, f_int, kernel_size=1, stride=1, padding=0, bias=True),\n",
    "          nn.BatchNorm2d(f_int)\n",
    "      )\n",
    "\n",
    "      self.psi = nn.Sequential(\n",
    "          nn.Conv2d(f_int, 1, kernel_size=1, stride=1, padding=0, bias=True),\n",
    "          nn.BatchNorm2d(1),\n",
    "          nn.Sigmoid()\n",
    "      )\n",
    "\n",
    "      self.act = nn.ReLU(inplace=True)\n",
    "\n",
    "\n",
    "    def forward(self, g, x):\n",
    "      g1 = self.w_g(g)\n",
    "      x1 = self.w_x(x)\n",
    "      psi = self.act(g1 + x1)\n",
    "      psi = self.psi(psi)\n",
    "      return x * psi"
   ],
   "metadata": {
    "id": "bf440754",
    "trusted": true,
    "execution": {
     "iopub.status.busy": "2025-09-13T12:09:08.388437Z",
     "iopub.execute_input": "2025-09-13T12:09:08.388616Z",
     "iopub.status.idle": "2025-09-13T12:09:08.408460Z",
     "shell.execute_reply.started": "2025-09-13T12:09:08.388601Z",
     "shell.execute_reply": "2025-09-13T12:09:08.407856Z"
    },
    "pycharm": {
     "name": "#%%\n"
    }
   },
   "outputs": [],
   "execution_count": 15
  },
  {
   "id": "19439b32",
   "cell_type": "markdown",
   "source": [
    "Now use the ```AttentionBlock``` to inherit [Attention UNet](https://arxiv.org/pdf/1804.03999) from UNet.\n",
    "\n",
    "![Attention UNet](https://www.researchgate.net/publication/347344899/figure/fig6/AS:971357475069952@1608601077414/The-architecture-of-Attention-U-Net-Attention-gate-selects-features-by-using-the.png)"
   ],
   "metadata": {
    "id": "19439b32",
    "pycharm": {
     "name": "#%% md\n"
    }
   }
  },
  {
   "id": "b30d6840",
   "cell_type": "code",
   "source": [
    "class AttentionUNet(UNet):  # Inherits from UNet\n",
    "    \"\"\"\n",
    "    Attention U-Net architecture which extends the basic U-Net\n",
    "    by integrating attention blocks in the skip connections.\n",
    "\n",
    "    Args:\n",
    "        in_channel (int): Number of input channels.\n",
    "        out_channel (int): Number of output channels.\n",
    "        filter_sizes (list): List of filter sizes for each level.\n",
    "    \"\"\"\n",
    "    def __init__(self, in_channel=3, out_channel=1, filter_sizes=[64, 128, 256, 512]):\n",
    "        super().__init__(in_channel, out_channel, filter_sizes)\n",
    "\n",
    "        # Attention gates for skip connections\n",
    "        self.att3 = AttentionBlock(filter_sizes[2], filter_sizes[2], filter_sizes[2] // 2)\n",
    "        self.att2 = AttentionBlock(filter_sizes[1], filter_sizes[1], filter_sizes[1] // 2)\n",
    "        self.att1 = AttentionBlock(filter_sizes[0], filter_sizes[0], filter_sizes[0] // 2)\n",
    "\n",
    "    def forward(self, x):\n",
    "        # Encoder path (reuse parents' blocks)\n",
    "        x1 = self.enc1(x)\n",
    "        p1 = self.pool1(x1)\n",
    "        x2 = self.enc2(p1)\n",
    "        p2 = self.pool2(x2)\n",
    "        x3 = self.enc3(p2)\n",
    "        p3 = self.pool3(x3)\n",
    "\n",
    "        # Bottleneck\n",
    "        x4 = self.bottleneck(p3)\n",
    "\n",
    "        # Decoder with attention-gated skips\n",
    "        u3 = self.up3(x4)\n",
    "        x3_att = self.att3(u3, x3)\n",
    "        d3 = self.dec3(torch.cat([u3, x3_att], dim=1))\n",
    "\n",
    "        u2 = self.up2(d3)\n",
    "        x2_att = self.att2(u2, x2)\n",
    "        d2 = self.dec2(torch.cat([u2, x2_att], dim=1))\n",
    "\n",
    "        u1 = self.up1(d2)\n",
    "        x1_att = self.att1(u1, x1)\n",
    "        d1 = self.dec1(torch.cat([u1, x1_att], dim=1))\n",
    "\n",
    "        out = self.final_conv(d1)\n",
    "        out = self.activation(out)\n",
    "        return out"
   ],
   "metadata": {
    "id": "b30d6840",
    "trusted": true,
    "execution": {
     "iopub.status.busy": "2025-09-13T12:09:08.410524Z",
     "iopub.execute_input": "2025-09-13T12:09:08.410715Z",
     "iopub.status.idle": "2025-09-13T12:09:08.425877Z",
     "shell.execute_reply.started": "2025-09-13T12:09:08.410701Z",
     "shell.execute_reply": "2025-09-13T12:09:08.425243Z"
    },
    "pycharm": {
     "name": "#%%\n"
    }
   },
   "outputs": [],
   "execution_count": 16
  },
  {
   "id": "1a3194d5",
   "cell_type": "markdown",
   "source": [
    "# Residual Attention UNet\n",
    "\n",
    "We will add residual blocks to the attention for better gradient flow. You can read more about residual blocks [here](https://arxiv.org/pdf/1512.03385).\n",
    "\n",
    "<img src=\"https://dfzljdn9uc3pi.cloudfront.net/2023/cs-1302/1/fig-1-full.png\" width=\"400\" alt=\"ResUNet Architecture\">"
   ],
   "metadata": {
    "id": "1a3194d5",
    "pycharm": {
     "name": "#%% md\n"
    }
   }
  },
  {
   "id": "a009671f",
   "cell_type": "code",
   "source": [
    "class ResidualConvBlock(nn.Module):\n",
    "    \"\"\"\n",
    "    Residual convolutional block with skip connection.\n",
    "\n",
    "    Args:\n",
    "        in_channel (int): Number of input channels.\n",
    "        out_channel (int): Number of output channels.\n",
    "    \"\"\"\n",
    "    def __init__(self, in_channel, out_channel):\n",
    "        super().__init__()\n",
    "        self.conv1 = nn.Sequential(\n",
    "            nn.Conv2d(in_channel, out_channel, kernel_size=3, padding=1, bias=False),\n",
    "            nn.BatchNorm2d(out_channel),\n",
    "            nn.ReLU(inplace=True),\n",
    "        )\n",
    "        self.conv2 = nn.Sequential(\n",
    "            nn.Conv2d(out_channel, out_channel, kernel_size=3, padding=1, bias=False),\n",
    "            nn.BatchNorm2d(out_channel),\n",
    "        )\n",
    "        self.shortcut = nn.Sequential(\n",
    "            nn.Conv2d(in_channel, out_channel, kernel_size=1, bias=False),\n",
    "            nn.BatchNorm2d(out_channel),\n",
    "        ) if in_channel != out_channel else nn.Identity()\n",
    "\n",
    "        self.relu = nn.ReLU(inplace=True)\n",
    "\n",
    "    def forward(self, x):\n",
    "        identity = x\n",
    "        out = self.conv1(x)\n",
    "        out = self.conv2(out)\n",
    "        identity = self.shortcut(identity)\n",
    "        out = out + identity\n",
    "        out = self.relu(out)\n",
    "        return out"
   ],
   "metadata": {
    "id": "a009671f",
    "trusted": true,
    "execution": {
     "iopub.status.busy": "2025-09-13T12:09:08.426462Z",
     "iopub.execute_input": "2025-09-13T12:09:08.426642Z",
     "iopub.status.idle": "2025-09-13T12:09:08.443974Z",
     "shell.execute_reply.started": "2025-09-13T12:09:08.426627Z",
     "shell.execute_reply": "2025-09-13T12:09:08.443393Z"
    },
    "pycharm": {
     "name": "#%%\n"
    }
   },
   "outputs": [],
   "execution_count": 17
  },
  {
   "id": "bf5739ce",
   "cell_type": "markdown",
   "source": [
    "Use ```ResidualConvBlock``` to construct Residual Attention Unet."
   ],
   "metadata": {
    "id": "bf5739ce",
    "pycharm": {
     "name": "#%% md\n"
    }
   }
  },
  {
   "id": "ac0b6428",
   "cell_type": "code",
   "source": [
    "class ResidualAttentionUNet(AttentionUNet):\n",
    "    \"\"\"\n",
    "    Residual Attention U-Net combining residual blocks with attention mechanisms.\n",
    "\n",
    "    Args:\n",
    "        in_channel (int): Number of input channels.\n",
    "        out_channel (int): Number of output channels.\n",
    "        filter_sizes (list): List of filter sizes for each level.\n",
    "    \"\"\"\n",
    "    def __init__(self, in_channel=3, out_channel=1, filter_sizes=[64, 128, 256, 512]):\n",
    "        super().__init__(in_channel, out_channel, filter_sizes)\n",
    "\n",
    "        # Replace encoder/decoder ConvBlocks with ResidualConvBlocks\n",
    "        self.enc1 = ResidualConvBlock(in_channel, filter_sizes[0])\n",
    "        self.enc2 = ResidualConvBlock(filter_sizes[0], filter_sizes[1])\n",
    "        self.enc3 = ResidualConvBlock(filter_sizes[1], filter_sizes[2])\n",
    "        self.bottleneck = ResidualConvBlock(filter_sizes[2], filter_sizes[3])\n",
    "\n",
    "        self.dec3 = ResidualConvBlock(filter_sizes[3], filter_sizes[2])\n",
    "        self.dec2 = ResidualConvBlock(filter_sizes[2], filter_sizes[1])\n",
    "        self.dec1 = ResidualConvBlock(filter_sizes[1], filter_sizes[0])\n",
    "\n",
    "    def forward(self, x):\n",
    "        # Encoder\n",
    "        x1 = self.enc1(x)\n",
    "        p1 = self.pool1(x1)\n",
    "        x2 = self.enc2(p1)\n",
    "        p2 = self.pool2(x2)\n",
    "        x3 = self.enc3(p2)\n",
    "        p3 = self.pool3(x3)\n",
    "\n",
    "        # Bottleneck\n",
    "        x4 = self.bottleneck(p3)\n",
    "\n",
    "        # Decoder with attention-gated residual blocks\n",
    "        u3 = self.up3(x4)\n",
    "        x3_att = self.att3(u3, x3)\n",
    "        d3 = self.dec3(torch.cat([u3, x3_att], dim=1))\n",
    "\n",
    "        u2 = self.up2(d3)\n",
    "        x2_att = self.att2(u2, x2)\n",
    "        d2 = self.dec2(torch.cat([u2, x2_att], dim=1))\n",
    "\n",
    "        u1 = self.up1(d2)\n",
    "        x1_att = self.att1(u1, x1)\n",
    "        d1 = self.dec1(torch.cat([u1, x1_att], dim=1))\n",
    "\n",
    "        out = self.final_conv(d1)\n",
    "        out = self.activation(out)\n",
    "        return out"
   ],
   "metadata": {
    "id": "ac0b6428",
    "trusted": true,
    "execution": {
     "iopub.status.busy": "2025-09-13T12:09:08.444675Z",
     "iopub.execute_input": "2025-09-13T12:09:08.444907Z",
     "iopub.status.idle": "2025-09-13T12:09:08.464070Z",
     "shell.execute_reply.started": "2025-09-13T12:09:08.444892Z",
     "shell.execute_reply": "2025-09-13T12:09:08.463398Z"
    },
    "pycharm": {
     "name": "#%%\n"
    }
   },
   "outputs": [],
   "execution_count": 18
  },
  {
   "id": "9ce7e105",
   "cell_type": "markdown",
   "source": [
    "# Training\n",
    "\n",
    "Now it is time to train the model on training data."
   ],
   "metadata": {
    "id": "9ce7e105",
    "pycharm": {
     "name": "#%% md\n"
    }
   }
  },
  {
   "id": "4aa6a47a",
   "cell_type": "markdown",
   "source": [
    "### Loss Function\n",
    "\n",
    "We will be using the sum of [Dice Score](https://oecd.ai/en/catalogue/metrics/dice-score#:~:text=The%20Dice%20score%20is%20calculated,sizes%20of%20the%20two%20sets.), [Iou Score](https://www.v7labs.com/blog/intersection-over-union-guide), and Binary Cross Entropy as loss function. You can read about the mentioned scores in the provided links.\n",
    "\n",
    "<font color=cyan><b> Note: Do Not Change The ```OverallLoss``` Function as it is used for measuring you model's performance.</b></font>"
   ],
   "metadata": {
    "id": "4aa6a47a",
    "pycharm": {
     "name": "#%% md\n"
    }
   }
  },
  {
   "id": "f0966ba5",
   "cell_type": "code",
   "source": [
    "### DICE LOSS\n",
    "class DiceLoss(nn.Module):\n",
    "    \"\"\"\n",
    "    Dice Loss for measuring overlap between predicted and ground truth masks.\n",
    "    Particularly useful for imbalanced classes in segmentation tasks.\n",
    "\n",
    "    Args:\n",
    "        smooth (float): Small constant to avoid division by zero.\n",
    "    \"\"\"\n",
    "    def __init__(self, smooth=1e-6):\n",
    "        super(DiceLoss, self).__init__()\n",
    "        self.smooth = smooth\n",
    "\n",
    "    def forward(self, pred, real):\n",
    "        pred = pred.contiguous()\n",
    "        real = real.contiguous()\n",
    "        intersection = (pred * real).sum(dim=(1,2,3))\n",
    "        union = pred.sum(dim=(1,2,3)) + real.sum(dim=(1,2,3))\n",
    "        dice_coeff = (2.0 * intersection + self.smooth) / (union + self.smooth)\n",
    "        return 1 - dice_coeff.mean()\n",
    "\n",
    "\n",
    "### Iou Loss\n",
    "class IouLoss(nn.Module):\n",
    "    \"\"\"\n",
    "    Intersection over Union (IoU) Loss for segmentation evaluation.\n",
    "    Measures the overlap between predicted and ground truth masks.\n",
    "\n",
    "    Args:\n",
    "        smooth (float): Small constant to avoid division by zero.\n",
    "    \"\"\"\n",
    "    def __init__(self, smooth=1e-6):\n",
    "        super(IouLoss, self).__init__()\n",
    "        self.smooth = smooth\n",
    "\n",
    "    def forward(self, pred, real):\n",
    "        pred = pred.contiguous()\n",
    "        real = real.contiguous()\n",
    "        intersection = (pred * real).sum(dim=(1,2,3))\n",
    "        total = (pred + real).sum(dim=(1,2,3))\n",
    "        union = total - intersection\n",
    "        iou_coeff = (intersection + self.smooth) / (union + self.smooth)\n",
    "        return 1 - iou_coeff.mean()\n",
    "\n",
    "\n",
    "### Overall Loss (DO NOT CHANGE)\n",
    "class OverallLoss(nn.Module):\n",
    "    \"\"\"\n",
    "    Combined loss function that sums Dice loss, IoU loss, and Binary Cross-Entropy loss.\n",
    "\n",
    "    Args:\n",
    "        smooth (float): Small constant to avoid division by zero.\n",
    "    \"\"\"\n",
    "    def __init__(self, smooth=1e-6):\n",
    "        super(OverallLoss, self).__init__()\n",
    "        self.dice_loss = DiceLoss(smooth)\n",
    "        self.iou_loss = IouLoss(smooth)\n",
    "        self.bce_loss = nn.BCELoss()\n",
    "\n",
    "    def forward(self, pred, real):\n",
    "        dice = self.dice_loss(pred, real)\n",
    "        iou = self.iou_loss(pred, real)\n",
    "        bce = self.bce_loss(pred, real)\n",
    "\n",
    "        return dice, iou, bce, dice+iou+bce"
   ],
   "metadata": {
    "id": "f0966ba5",
    "trusted": true,
    "execution": {
     "iopub.status.busy": "2025-09-13T12:09:08.464909Z",
     "iopub.execute_input": "2025-09-13T12:09:08.465505Z",
     "iopub.status.idle": "2025-09-13T12:09:08.485359Z",
     "shell.execute_reply.started": "2025-09-13T12:09:08.465482Z",
     "shell.execute_reply": "2025-09-13T12:09:08.484794Z"
    },
    "pycharm": {
     "name": "#%%\n"
    }
   },
   "outputs": [],
   "execution_count": 19
  },
  {
   "id": "b23e9266",
   "cell_type": "markdown",
   "source": [
    "### Training Epoch\n",
    "\n",
    "Complete the function below to train the model for one epoch."
   ],
   "metadata": {
    "id": "b23e9266",
    "pycharm": {
     "name": "#%% md\n"
    }
   }
  },
  {
   "id": "538edeee",
   "cell_type": "code",
   "source": [
    "def train_one_epoch(model, optimizer, criterion, data_loader, scheduler=None, device='cuda'):\n",
    "    \"\"\"\n",
    "    Trains the model for one epoch.\n",
    "\n",
    "    Args:\n",
    "        model (nn.Module): The neural network model to train.\n",
    "        optimizer (torch.optim.Optimizer): Optimizer for updating model parameters.\n",
    "        criterion (nn.Module): Loss function to compute the loss.\n",
    "        data_loader (DataLoader): DataLoader providing training batches.\n",
    "        scheduler (optional): Learning rate scheduler.\n",
    "        device (str): Device to run the training on ('cuda' or 'cpu').\n",
    "\n",
    "    Returns:\n",
    "        float: Average loss over the epoch.\n",
    "    \"\"\"\n",
    "\n",
    "    total_loss = 0.0\n",
    "    model.train()\n",
    "    for i, (img, mask) in enumerate(tqdm(data_loader)):\n",
    "        # Move the image and mask to device\n",
    "        img = img.to(device, non_blocking=True)\n",
    "        mask = mask.to(device, non_blocking=True)\n",
    "        # Set the gradients to zero\n",
    "        optimizer.zero_grad(set_to_none=True)\n",
    "\n",
    "        # Predict the mask using the model\n",
    "        pred = model(img)\n",
    "        # Compute the loss\n",
    "        _, _, _, loss = criterion(pred, mask)\n",
    "        # Compute gradients\n",
    "        loss.backward()\n",
    "\n",
    "        # update the parameters\n",
    "        optimizer.step()\n",
    "\n",
    "        if scheduler:\n",
    "            # Schedule the learning rate\n",
    "            scheduler.step()\n",
    "\n",
    "        total_loss += loss.item()\n",
    "\n",
    "    return total_loss/len(data_loader)"
   ],
   "metadata": {
    "id": "538edeee",
    "trusted": true,
    "execution": {
     "iopub.status.busy": "2025-09-13T12:09:08.486010Z",
     "iopub.execute_input": "2025-09-13T12:09:08.486240Z",
     "iopub.status.idle": "2025-09-13T12:09:08.504795Z",
     "shell.execute_reply.started": "2025-09-13T12:09:08.486225Z",
     "shell.execute_reply": "2025-09-13T12:09:08.504157Z"
    },
    "pycharm": {
     "name": "#%%\n"
    }
   },
   "outputs": [],
   "execution_count": 20
  },
  {
   "id": "df64e4e7",
   "cell_type": "markdown",
   "source": [
    "Design a function for evaluation after each training phase."
   ],
   "metadata": {
    "id": "df64e4e7",
    "pycharm": {
     "name": "#%% md\n"
    }
   }
  },
  {
   "id": "0a63f31b",
   "cell_type": "code",
   "source": [
    "def evaluate_model(model, criterion, data_loader, device='cuda'):\n",
    "    \"\"\"\n",
    "    Evaluates the model on validation or test data.\n",
    "\n",
    "    Args:\n",
    "        model (nn.Module): The neural network model to evaluate.\n",
    "        criterion (nn.Module): Loss function to compute evaluation metrics.\n",
    "        data_loader (DataLoader): DataLoader providing evaluation batches.\n",
    "        device (str): Device to run evaluation on ('cuda' or 'cpu').\n",
    "\n",
    "    Returns:\n",
    "        tuple: Average loss, average IoU score, and average Dice score over the dataset.\n",
    "    \"\"\"\n",
    "    total_loss = 0.0\n",
    "    iou_score = 0.0\n",
    "    dice_score = 0.0\n",
    "    model.eval()\n",
    "\n",
    "    with torch.no_grad():\n",
    "        for i, (img, mask) in enumerate(tqdm(data_loader)):\n",
    "            # Move the image and mask to device\n",
    "            img = img.to(device, non_blocking=True)\n",
    "            mask = mask.to(device, non_blocking=True)\n",
    "\n",
    "            # Predict the mask\n",
    "            pred = model(img)\n",
    "\n",
    "            # Compute the loss\n",
    "            dice_loss, iou_loss, bce_loss, overall_loss = criterion(pred, mask)\n",
    "\n",
    "            total_loss += overall_loss.item()\n",
    "            iou_score += 1 - iou_loss.item()\n",
    "            dice_score += 1 - dice_loss.item()\n",
    "\n",
    "        total_loss /= len(data_loader)\n",
    "        iou_score /= len(data_loader)\n",
    "        dice_score /= len(data_loader)\n",
    "\n",
    "    return total_loss, iou_score, dice_score"
   ],
   "metadata": {
    "id": "0a63f31b",
    "trusted": true,
    "execution": {
     "iopub.status.busy": "2025-09-13T12:09:08.505502Z",
     "iopub.execute_input": "2025-09-13T12:09:08.506169Z",
     "iopub.status.idle": "2025-09-13T12:09:08.521742Z",
     "shell.execute_reply.started": "2025-09-13T12:09:08.506150Z",
     "shell.execute_reply": "2025-09-13T12:09:08.521126Z"
    },
    "pycharm": {
     "name": "#%%\n"
    }
   },
   "outputs": [],
   "execution_count": 21
  },
  {
   "id": "223a8cc5",
   "cell_type": "markdown",
   "source": [
    "# Model Training\n",
    "\n",
    "### UNet  \n",
    "Create an instance of UNet and train it. Then report the results.  \n",
    "\n",
    "<b><font color=red>Note: your models need to satisfy below conditions to get complete score.</font></b>\n",
    "\n",
    "<table style=\"width: 100%; font-size: 18px; border-collapse: collapse; margin: 15px 0;\">\n",
    "  <tr>\n",
    "    <th style=\"text-align: left; padding: 8px; border-bottom: 2px solid #ddd;\">Model</th>\n",
    "    <th style=\"text-align: right; padding: 8px; border-bottom: 2px solid #ddd;\">Validation Loss</th>\n",
    "    <th style=\"text-align: right; padding: 8px; border-bottom: 2px solid #ddd;\">Iou Score</th>\n",
    "    <th style=\"text-align: right; padding: 8px; border-bottom: 2px solid #ddd;\">Dice Score</th>\n",
    "  </tr>\n",
    "  <tr>\n",
    "    <td style=\"padding: 8px; border-bottom: 1px solid #ddd;\">UNet</td>\n",
    "    <td style=\"text-align: right; padding: 8px; border-bottom: 1px solid #ddd;\">&lt; 1.0</td>\n",
    "    <td style=\"text-align: right; padding: 8px; border-bottom: 1px solid #ddd;\">&gt; 0.5</td>\n",
    "    <td style=\"text-align: right; padding: 8px; border-bottom: 1px solid #ddd;\">&gt; 0.6</td>\n",
    "  </tr>\n",
    "  <tr>\n",
    "    <td style=\"padding: 8px; border-bottom: 1px solid #ddd;\">Attention UNet</td>\n",
    "    <td style=\"text-align: right; padding: 8px; border-bottom: 1px solid #ddd;\">&lt; 0.9</td>\n",
    "    <td style=\"text-align: right; padding: 8px; border-bottom: 1px solid #ddd;\">&gt; 0.6</td>\n",
    "    <td style=\"text-align: right; padding: 8px; border-bottom: 1px solid #ddd;\">&gt; 0.65</td>\n",
    "  </tr>\n",
    "  <tr>\n",
    "    <td style=\"padding: 8px;\">Residual Attention UNet</td>\n",
    "    <td style=\"text-align: right; padding: 8px;\">&lt; 0.8</td>\n",
    "    <td style=\"text-align: right; padding: 8px;\">&gt; 0.65</td>\n",
    "    <td style=\"text-align: right; padding: 8px;\">&gt; 0.7</td>\n",
    "  </tr>\n",
    "</table>"
   ],
   "metadata": {
    "id": "223a8cc5",
    "pycharm": {
     "name": "#%% md\n"
    }
   }
  },
  {
   "id": "400db6ae",
   "cell_type": "code",
   "source": [
    "unet = UNet().to(device)\n",
    "criterion = OverallLoss()\n",
    "# You can use other optimizers or Adam optimizer with customized weight decay, b1, or b2\n",
    "optimizer = Adam(unet.parameters(), lr=LR)\n",
    "# Add a scheduler if you like\n",
    "\n",
    "best_loss = 100.0\n",
    "for i in range(NUM_EPOCHS):\n",
    "    train_loss = train_one_epoch(unet, optimizer, criterion, train_loader)\n",
    "    val_loss, iou_score, dice_score = evaluate_model(unet, criterion, val_loader)\n",
    "\n",
    "    if val_loss < best_loss:\n",
    "        best_loss = val_loss\n",
    "        torch.save(unet.state_dict(), \"best_unet.pth\")\n",
    "\n",
    "    print(f\"Iteration {i+1}/{NUM_EPOCHS}: \"\n",
    "          f\"Train Loss: {train_loss:.2f} | \"\n",
    "          f\"Val Loss: {val_loss:.2f} | \"\n",
    "          f\"Iou Score: {iou_score:.2f} | \"\n",
    "          f\"Dice Score: {dice_score:.2f}\")"
   ],
   "metadata": {
    "id": "400db6ae",
    "outputId": "9a90b440-799e-4609-aadd-b2bee781d6c6",
    "trusted": true,
    "execution": {
     "iopub.status.busy": "2025-09-13T12:09:08.522297Z",
     "iopub.execute_input": "2025-09-13T12:09:08.522479Z",
     "iopub.status.idle": "2025-09-13T12:16:30.747034Z",
     "shell.execute_reply.started": "2025-09-13T12:09:08.522457Z",
     "shell.execute_reply": "2025-09-13T12:16:30.746163Z"
    },
    "pycharm": {
     "name": "#%%\n"
    }
   },
   "outputs": [
    {
     "name": "stderr",
     "text": "100%|██████████| 139/139 [01:28<00:00,  1.56it/s]\n100%|██████████| 2/2 [00:06<00:00,  3.17s/it]\n",
     "output_type": "stream"
    },
    {
     "name": "stdout",
     "text": "Iteration 1/15: Train Loss: 1.91 | Val Loss: 1.60 | Iou Score: 0.23 | Dice Score: 0.37\n",
     "output_type": "stream"
    },
    {
     "name": "stderr",
     "text": "100%|██████████| 139/139 [00:24<00:00,  5.71it/s]\n100%|██████████| 2/2 [00:00<00:00,  5.82it/s]\n",
     "output_type": "stream"
    },
    {
     "name": "stdout",
     "text": "Iteration 2/15: Train Loss: 1.36 | Val Loss: 1.23 | Iou Score: 0.40 | Dice Score: 0.57\n",
     "output_type": "stream"
    },
    {
     "name": "stderr",
     "text": "100%|██████████| 139/139 [00:24<00:00,  5.70it/s]\n100%|██████████| 2/2 [00:00<00:00,  5.74it/s]\n",
     "output_type": "stream"
    },
    {
     "name": "stdout",
     "text": "Iteration 3/15: Train Loss: 1.24 | Val Loss: 1.10 | Iou Score: 0.46 | Dice Score: 0.62\n",
     "output_type": "stream"
    },
    {
     "name": "stderr",
     "text": "100%|██████████| 139/139 [00:24<00:00,  5.72it/s]\n100%|██████████| 2/2 [00:00<00:00,  5.88it/s]\n",
     "output_type": "stream"
    },
    {
     "name": "stdout",
     "text": "Iteration 4/15: Train Loss: 1.19 | Val Loss: 1.06 | Iou Score: 0.48 | Dice Score: 0.64\n",
     "output_type": "stream"
    },
    {
     "name": "stderr",
     "text": "100%|██████████| 139/139 [00:24<00:00,  5.72it/s]\n100%|██████████| 2/2 [00:00<00:00,  3.49it/s]\n",
     "output_type": "stream"
    },
    {
     "name": "stdout",
     "text": "Iteration 5/15: Train Loss: 1.16 | Val Loss: 1.02 | Iou Score: 0.50 | Dice Score: 0.66\n",
     "output_type": "stream"
    },
    {
     "name": "stderr",
     "text": "100%|██████████| 139/139 [00:24<00:00,  5.72it/s]\n100%|██████████| 2/2 [00:00<00:00,  5.79it/s]\n",
     "output_type": "stream"
    },
    {
     "name": "stdout",
     "text": "Iteration 6/15: Train Loss: 1.15 | Val Loss: 1.09 | Iou Score: 0.47 | Dice Score: 0.63\n",
     "output_type": "stream"
    },
    {
     "name": "stderr",
     "text": "100%|██████████| 139/139 [00:24<00:00,  5.70it/s]\n100%|██████████| 2/2 [00:00<00:00,  4.05it/s]\n",
     "output_type": "stream"
    },
    {
     "name": "stdout",
     "text": "Iteration 7/15: Train Loss: 1.13 | Val Loss: 1.00 | Iou Score: 0.50 | Dice Score: 0.66\n",
     "output_type": "stream"
    },
    {
     "name": "stderr",
     "text": "100%|██████████| 139/139 [00:24<00:00,  5.72it/s]\n100%|██████████| 2/2 [00:00<00:00,  5.82it/s]\n",
     "output_type": "stream"
    },
    {
     "name": "stdout",
     "text": "Iteration 8/15: Train Loss: 1.12 | Val Loss: 1.04 | Iou Score: 0.48 | Dice Score: 0.65\n",
     "output_type": "stream"
    },
    {
     "name": "stderr",
     "text": "100%|██████████| 139/139 [00:24<00:00,  5.72it/s]\n100%|██████████| 2/2 [00:00<00:00,  5.98it/s]\n",
     "output_type": "stream"
    },
    {
     "name": "stdout",
     "text": "Iteration 9/15: Train Loss: 1.11 | Val Loss: 0.98 | Iou Score: 0.51 | Dice Score: 0.67\n",
     "output_type": "stream"
    },
    {
     "name": "stderr",
     "text": "100%|██████████| 139/139 [00:24<00:00,  5.71it/s]\n100%|██████████| 2/2 [00:00<00:00,  5.59it/s]\n",
     "output_type": "stream"
    },
    {
     "name": "stdout",
     "text": "Iteration 10/15: Train Loss: 1.09 | Val Loss: 0.97 | Iou Score: 0.52 | Dice Score: 0.68\n",
     "output_type": "stream"
    },
    {
     "name": "stderr",
     "text": "100%|██████████| 139/139 [00:24<00:00,  5.69it/s]\n100%|██████████| 2/2 [00:00<00:00,  5.73it/s]\n",
     "output_type": "stream"
    },
    {
     "name": "stdout",
     "text": "Iteration 11/15: Train Loss: 1.09 | Val Loss: 0.93 | Iou Score: 0.53 | Dice Score: 0.69\n",
     "output_type": "stream"
    },
    {
     "name": "stderr",
     "text": "100%|██████████| 139/139 [00:24<00:00,  5.72it/s]\n100%|██████████| 2/2 [00:00<00:00,  5.99it/s]\n",
     "output_type": "stream"
    },
    {
     "name": "stdout",
     "text": "Iteration 12/15: Train Loss: 1.08 | Val Loss: 1.06 | Iou Score: 0.48 | Dice Score: 0.65\n",
     "output_type": "stream"
    },
    {
     "name": "stderr",
     "text": "100%|██████████| 139/139 [00:24<00:00,  5.71it/s]\n100%|██████████| 2/2 [00:00<00:00,  5.91it/s]\n",
     "output_type": "stream"
    },
    {
     "name": "stdout",
     "text": "Iteration 13/15: Train Loss: 1.07 | Val Loss: 1.04 | Iou Score: 0.49 | Dice Score: 0.66\n",
     "output_type": "stream"
    },
    {
     "name": "stderr",
     "text": "100%|██████████| 139/139 [00:24<00:00,  5.70it/s]\n100%|██████████| 2/2 [00:00<00:00,  6.07it/s]\n",
     "output_type": "stream"
    },
    {
     "name": "stdout",
     "text": "Iteration 14/15: Train Loss: 1.06 | Val Loss: 1.02 | Iou Score: 0.49 | Dice Score: 0.65\n",
     "output_type": "stream"
    },
    {
     "name": "stderr",
     "text": "100%|██████████| 139/139 [00:24<00:00,  5.72it/s]\n100%|██████████| 2/2 [00:00<00:00,  5.83it/s]",
     "output_type": "stream"
    },
    {
     "name": "stdout",
     "text": "Iteration 15/15: Train Loss: 1.06 | Val Loss: 0.95 | Iou Score: 0.52 | Dice Score: 0.68\n",
     "output_type": "stream"
    },
    {
     "name": "stderr",
     "text": "\n",
     "output_type": "stream"
    }
   ],
   "execution_count": 22
  },
  {
   "id": "23109259",
   "cell_type": "markdown",
   "source": [
    "Now do the same for Attention UNet and Reidual Attention UNet."
   ],
   "metadata": {
    "id": "23109259",
    "pycharm": {
     "name": "#%% md\n"
    }
   }
  },
  {
   "id": "3b74e7bb",
   "cell_type": "code",
   "source": [
    "attention_unet = AttentionUNet().to(device)\n",
    "criterion = OverallLoss()\n",
    "# You can use other optimizers or Adam optimizer with customized weight decay, b1, or b2\n",
    "optimizer = Adam(attention_unet.parameters(), lr=LR)\n",
    "\n",
    "best_loss = 100.0\n",
    "for i in range(NUM_EPOCHS):\n",
    "    train_loss = train_one_epoch(attention_unet, optimizer, criterion, train_loader)\n",
    "    val_loss, iou_score, dice_score = evaluate_model(attention_unet, criterion, val_loader)\n",
    "\n",
    "    if val_loss < best_loss:\n",
    "        best_loss = val_loss\n",
    "        torch.save(attention_unet.state_dict(), \"best_attention_unet.pth\")\n",
    "\n",
    "    print(f\"Iteration {i+1}/{NUM_EPOCHS}: \"\n",
    "          f\"Train Loss: {train_loss:.2f} | \"\n",
    "          f\"Val Loss: {val_loss:.2f} | \"\n",
    "          f\"Iou Score: {iou_score:.2f} | \"\n",
    "          f\"Dice Score: {dice_score:.2f}\")"
   ],
   "metadata": {
    "id": "3b74e7bb",
    "outputId": "4bee1ef4-fcae-43de-b93d-fb4571008903",
    "trusted": true,
    "execution": {
     "iopub.status.busy": "2025-09-13T12:16:30.748255Z",
     "iopub.execute_input": "2025-09-13T12:16:30.748503Z",
     "iopub.status.idle": "2025-09-13T12:23:48.194150Z",
     "shell.execute_reply.started": "2025-09-13T12:16:30.748472Z",
     "shell.execute_reply": "2025-09-13T12:23:48.193506Z"
    },
    "pycharm": {
     "name": "#%%\n"
    }
   },
   "outputs": [
    {
     "name": "stderr",
     "text": "100%|██████████| 139/139 [00:30<00:00,  4.60it/s]\n100%|██████████| 2/2 [00:00<00:00,  3.66it/s]\n",
     "output_type": "stream"
    },
    {
     "name": "stdout",
     "text": "Iteration 1/15: Train Loss: 1.90 | Val Loss: 1.38 | Iou Score: 0.31 | Dice Score: 0.47\n",
     "output_type": "stream"
    },
    {
     "name": "stderr",
     "text": "100%|██████████| 139/139 [00:28<00:00,  4.85it/s]\n100%|██████████| 2/2 [00:00<00:00,  5.66it/s]\n",
     "output_type": "stream"
    },
    {
     "name": "stdout",
     "text": "Iteration 2/15: Train Loss: 1.32 | Val Loss: 1.26 | Iou Score: 0.39 | Dice Score: 0.55\n",
     "output_type": "stream"
    },
    {
     "name": "stderr",
     "text": "100%|██████████| 139/139 [00:28<00:00,  4.85it/s]\n100%|██████████| 2/2 [00:00<00:00,  5.47it/s]\n",
     "output_type": "stream"
    },
    {
     "name": "stdout",
     "text": "Iteration 3/15: Train Loss: 1.22 | Val Loss: 1.32 | Iou Score: 0.38 | Dice Score: 0.54\n",
     "output_type": "stream"
    },
    {
     "name": "stderr",
     "text": "100%|██████████| 139/139 [00:28<00:00,  4.85it/s]\n100%|██████████| 2/2 [00:00<00:00,  5.84it/s]\n",
     "output_type": "stream"
    },
    {
     "name": "stdout",
     "text": "Iteration 4/15: Train Loss: 1.17 | Val Loss: 1.01 | Iou Score: 0.49 | Dice Score: 0.66\n",
     "output_type": "stream"
    },
    {
     "name": "stderr",
     "text": "100%|██████████| 139/139 [00:28<00:00,  4.85it/s]\n100%|██████████| 2/2 [00:00<00:00,  5.66it/s]\n",
     "output_type": "stream"
    },
    {
     "name": "stdout",
     "text": "Iteration 5/15: Train Loss: 1.14 | Val Loss: 1.11 | Iou Score: 0.46 | Dice Score: 0.63\n",
     "output_type": "stream"
    },
    {
     "name": "stderr",
     "text": "100%|██████████| 139/139 [00:28<00:00,  4.85it/s]\n100%|██████████| 2/2 [00:00<00:00,  5.65it/s]\n",
     "output_type": "stream"
    },
    {
     "name": "stdout",
     "text": "Iteration 6/15: Train Loss: 1.13 | Val Loss: 0.99 | Iou Score: 0.51 | Dice Score: 0.67\n",
     "output_type": "stream"
    },
    {
     "name": "stderr",
     "text": "100%|██████████| 139/139 [00:28<00:00,  4.85it/s]\n100%|██████████| 2/2 [00:00<00:00,  5.14it/s]\n",
     "output_type": "stream"
    },
    {
     "name": "stdout",
     "text": "Iteration 7/15: Train Loss: 1.11 | Val Loss: 1.01 | Iou Score: 0.49 | Dice Score: 0.65\n",
     "output_type": "stream"
    },
    {
     "name": "stderr",
     "text": "100%|██████████| 139/139 [00:28<00:00,  4.86it/s]\n100%|██████████| 2/2 [00:00<00:00,  5.61it/s]\n",
     "output_type": "stream"
    },
    {
     "name": "stdout",
     "text": "Iteration 8/15: Train Loss: 1.11 | Val Loss: 0.98 | Iou Score: 0.51 | Dice Score: 0.67\n",
     "output_type": "stream"
    },
    {
     "name": "stderr",
     "text": "100%|██████████| 139/139 [00:28<00:00,  4.85it/s]\n100%|██████████| 2/2 [00:00<00:00,  5.91it/s]\n",
     "output_type": "stream"
    },
    {
     "name": "stdout",
     "text": "Iteration 9/15: Train Loss: 1.09 | Val Loss: 0.98 | Iou Score: 0.51 | Dice Score: 0.67\n",
     "output_type": "stream"
    },
    {
     "name": "stderr",
     "text": "100%|██████████| 139/139 [00:28<00:00,  4.85it/s]\n100%|██████████| 2/2 [00:00<00:00,  5.68it/s]\n",
     "output_type": "stream"
    },
    {
     "name": "stdout",
     "text": "Iteration 10/15: Train Loss: 1.08 | Val Loss: 0.96 | Iou Score: 0.53 | Dice Score: 0.69\n",
     "output_type": "stream"
    },
    {
     "name": "stderr",
     "text": "100%|██████████| 139/139 [00:28<00:00,  4.85it/s]\n100%|██████████| 2/2 [00:00<00:00,  5.67it/s]\n",
     "output_type": "stream"
    },
    {
     "name": "stdout",
     "text": "Iteration 11/15: Train Loss: 1.07 | Val Loss: 1.00 | Iou Score: 0.51 | Dice Score: 0.67\n",
     "output_type": "stream"
    },
    {
     "name": "stderr",
     "text": "100%|██████████| 139/139 [00:28<00:00,  4.85it/s]\n100%|██████████| 2/2 [00:00<00:00,  5.65it/s]\n",
     "output_type": "stream"
    },
    {
     "name": "stdout",
     "text": "Iteration 12/15: Train Loss: 1.07 | Val Loss: 0.97 | Iou Score: 0.51 | Dice Score: 0.68\n",
     "output_type": "stream"
    },
    {
     "name": "stderr",
     "text": "100%|██████████| 139/139 [00:28<00:00,  4.85it/s]\n100%|██████████| 2/2 [00:00<00:00,  5.58it/s]\n",
     "output_type": "stream"
    },
    {
     "name": "stdout",
     "text": "Iteration 13/15: Train Loss: 1.06 | Val Loss: 1.13 | Iou Score: 0.44 | Dice Score: 0.61\n",
     "output_type": "stream"
    },
    {
     "name": "stderr",
     "text": "100%|██████████| 139/139 [00:28<00:00,  4.86it/s]\n100%|██████████| 2/2 [00:00<00:00,  5.95it/s]\n",
     "output_type": "stream"
    },
    {
     "name": "stdout",
     "text": "Iteration 14/15: Train Loss: 1.06 | Val Loss: 1.00 | Iou Score: 0.51 | Dice Score: 0.67\n",
     "output_type": "stream"
    },
    {
     "name": "stderr",
     "text": "100%|██████████| 139/139 [00:28<00:00,  4.85it/s]\n100%|██████████| 2/2 [00:00<00:00,  5.84it/s]",
     "output_type": "stream"
    },
    {
     "name": "stdout",
     "text": "Iteration 15/15: Train Loss: 1.04 | Val Loss: 0.98 | Iou Score: 0.51 | Dice Score: 0.68\n",
     "output_type": "stream"
    },
    {
     "name": "stderr",
     "text": "\n",
     "output_type": "stream"
    }
   ],
   "execution_count": 23
  },
  {
   "id": "293ad90a",
   "cell_type": "markdown",
   "source": [
    "For Residual Attention UNet, plot the changes in train and validation loss."
   ],
   "metadata": {
    "id": "293ad90a",
    "pycharm": {
     "name": "#%% md\n"
    }
   }
  },
  {
   "id": "f64e512b",
   "cell_type": "code",
   "source": [
    "resattn_unet = ResidualAttentionUNet().to(device)\n",
    "criterion = OverallLoss()\n",
    "# You can use other optimizers or Adam optimizer with customized weight decay, b1, or b2\n",
    "optimizer = Adam(resattn_unet.parameters(), lr=LR)\n",
    "\n",
    "train_losses = []\n",
    "val_losses = []\n",
    "\n",
    "best_loss = 100.0\n",
    "for i in range(NUM_EPOCHS):\n",
    "    train_loss = train_one_epoch(resattn_unet, optimizer, criterion, train_loader)\n",
    "    val_loss, iou_score, dice_score = evaluate_model(resattn_unet, criterion, val_loader)\n",
    "\n",
    "    train_losses.append(train_loss)\n",
    "    val_losses.append(val_loss)\n",
    "\n",
    "    if val_loss < best_loss:\n",
    "        torch.save(resattn_unet.state_dict(), \"best_residual_attention_unet.pth\")\n",
    "\n",
    "    print(f\"Iteration {i+1}/{NUM_EPOCHS}: \"\n",
    "          f\"Train Loss: {train_loss:.2f} | \"\n",
    "          f\"Val Loss: {val_loss:.2f} | \"\n",
    "          f\"Iou Score: {iou_score:.2f} | \"\n",
    "          f\"Dice Score: {dice_score:.2f}\")"
   ],
   "metadata": {
    "id": "f64e512b",
    "outputId": "b67dcb24-18f2-4a2c-b875-6652479c0bee",
    "trusted": true,
    "execution": {
     "iopub.status.busy": "2025-09-13T12:23:48.194893Z",
     "iopub.execute_input": "2025-09-13T12:23:48.195165Z",
     "iopub.status.idle": "2025-09-13T12:32:19.355590Z",
     "shell.execute_reply.started": "2025-09-13T12:23:48.195136Z",
     "shell.execute_reply": "2025-09-13T12:32:19.354683Z"
    },
    "pycharm": {
     "name": "#%%\n"
    }
   },
   "outputs": [
    {
     "name": "stderr",
     "text": "100%|██████████| 139/139 [00:37<00:00,  3.70it/s]\n100%|██████████| 2/2 [00:00<00:00,  3.09it/s]\n",
     "output_type": "stream"
    },
    {
     "name": "stdout",
     "text": "Iteration 1/15: Train Loss: 1.71 | Val Loss: 1.46 | Iou Score: 0.32 | Dice Score: 0.49\n",
     "output_type": "stream"
    },
    {
     "name": "stderr",
     "text": "100%|██████████| 139/139 [00:33<00:00,  4.18it/s]\n100%|██████████| 2/2 [00:00<00:00,  5.39it/s]\n",
     "output_type": "stream"
    },
    {
     "name": "stdout",
     "text": "Iteration 2/15: Train Loss: 1.32 | Val Loss: 1.12 | Iou Score: 0.45 | Dice Score: 0.62\n",
     "output_type": "stream"
    },
    {
     "name": "stderr",
     "text": "100%|██████████| 139/139 [00:33<00:00,  4.17it/s]\n100%|██████████| 2/2 [00:00<00:00,  5.61it/s]\n",
     "output_type": "stream"
    },
    {
     "name": "stdout",
     "text": "Iteration 3/15: Train Loss: 1.21 | Val Loss: 1.07 | Iou Score: 0.47 | Dice Score: 0.64\n",
     "output_type": "stream"
    },
    {
     "name": "stderr",
     "text": "100%|██████████| 139/139 [00:33<00:00,  4.18it/s]\n100%|██████████| 2/2 [00:00<00:00,  5.23it/s]\n",
     "output_type": "stream"
    },
    {
     "name": "stdout",
     "text": "Iteration 4/15: Train Loss: 1.16 | Val Loss: 1.06 | Iou Score: 0.48 | Dice Score: 0.64\n",
     "output_type": "stream"
    },
    {
     "name": "stderr",
     "text": "100%|██████████| 139/139 [00:33<00:00,  4.18it/s]\n100%|██████████| 2/2 [00:00<00:00,  5.23it/s]\n",
     "output_type": "stream"
    },
    {
     "name": "stdout",
     "text": "Iteration 5/15: Train Loss: 1.13 | Val Loss: 1.01 | Iou Score: 0.50 | Dice Score: 0.66\n",
     "output_type": "stream"
    },
    {
     "name": "stderr",
     "text": "100%|██████████| 139/139 [00:33<00:00,  4.17it/s]\n100%|██████████| 2/2 [00:00<00:00,  5.34it/s]\n",
     "output_type": "stream"
    },
    {
     "name": "stdout",
     "text": "Iteration 6/15: Train Loss: 1.11 | Val Loss: 1.01 | Iou Score: 0.50 | Dice Score: 0.66\n",
     "output_type": "stream"
    },
    {
     "name": "stderr",
     "text": "100%|██████████| 139/139 [00:33<00:00,  4.17it/s]\n100%|██████████| 2/2 [00:00<00:00,  5.46it/s]\n",
     "output_type": "stream"
    },
    {
     "name": "stdout",
     "text": "Iteration 7/15: Train Loss: 1.09 | Val Loss: 1.08 | Iou Score: 0.46 | Dice Score: 0.63\n",
     "output_type": "stream"
    },
    {
     "name": "stderr",
     "text": "100%|██████████| 139/139 [00:33<00:00,  4.17it/s]\n100%|██████████| 2/2 [00:00<00:00,  4.93it/s]\n",
     "output_type": "stream"
    },
    {
     "name": "stdout",
     "text": "Iteration 8/15: Train Loss: 1.09 | Val Loss: 1.01 | Iou Score: 0.50 | Dice Score: 0.66\n",
     "output_type": "stream"
    },
    {
     "name": "stderr",
     "text": "100%|██████████| 139/139 [00:33<00:00,  4.18it/s]\n100%|██████████| 2/2 [00:00<00:00,  5.39it/s]\n",
     "output_type": "stream"
    },
    {
     "name": "stdout",
     "text": "Iteration 9/15: Train Loss: 1.06 | Val Loss: 0.93 | Iou Score: 0.53 | Dice Score: 0.69\n",
     "output_type": "stream"
    },
    {
     "name": "stderr",
     "text": "100%|██████████| 139/139 [00:33<00:00,  4.18it/s]\n100%|██████████| 2/2 [00:00<00:00,  5.30it/s]\n",
     "output_type": "stream"
    },
    {
     "name": "stdout",
     "text": "Iteration 10/15: Train Loss: 1.06 | Val Loss: 0.96 | Iou Score: 0.52 | Dice Score: 0.68\n",
     "output_type": "stream"
    },
    {
     "name": "stderr",
     "text": "100%|██████████| 139/139 [00:33<00:00,  4.18it/s]\n100%|██████████| 2/2 [00:00<00:00,  5.05it/s]\n",
     "output_type": "stream"
    },
    {
     "name": "stdout",
     "text": "Iteration 11/15: Train Loss: 1.05 | Val Loss: 0.98 | Iou Score: 0.51 | Dice Score: 0.67\n",
     "output_type": "stream"
    },
    {
     "name": "stderr",
     "text": "100%|██████████| 139/139 [00:33<00:00,  4.17it/s]\n100%|██████████| 2/2 [00:00<00:00,  5.44it/s]\n",
     "output_type": "stream"
    },
    {
     "name": "stdout",
     "text": "Iteration 12/15: Train Loss: 1.04 | Val Loss: 0.92 | Iou Score: 0.54 | Dice Score: 0.70\n",
     "output_type": "stream"
    },
    {
     "name": "stderr",
     "text": "100%|██████████| 139/139 [00:33<00:00,  4.18it/s]\n100%|██████████| 2/2 [00:00<00:00,  5.60it/s]\n",
     "output_type": "stream"
    },
    {
     "name": "stdout",
     "text": "Iteration 13/15: Train Loss: 1.03 | Val Loss: 0.91 | Iou Score: 0.54 | Dice Score: 0.70\n",
     "output_type": "stream"
    },
    {
     "name": "stderr",
     "text": "100%|██████████| 139/139 [00:33<00:00,  4.18it/s]\n100%|██████████| 2/2 [00:00<00:00,  4.88it/s]\n",
     "output_type": "stream"
    },
    {
     "name": "stdout",
     "text": "Iteration 14/15: Train Loss: 1.01 | Val Loss: 0.96 | Iou Score: 0.52 | Dice Score: 0.68\n",
     "output_type": "stream"
    },
    {
     "name": "stderr",
     "text": "100%|██████████| 139/139 [00:33<00:00,  4.18it/s]\n100%|██████████| 2/2 [00:00<00:00,  5.39it/s]",
     "output_type": "stream"
    },
    {
     "name": "stdout",
     "text": "Iteration 15/15: Train Loss: 1.01 | Val Loss: 0.95 | Iou Score: 0.53 | Dice Score: 0.69\n",
     "output_type": "stream"
    },
    {
     "name": "stderr",
     "text": "\n",
     "output_type": "stream"
    }
   ],
   "execution_count": 24
  },
  {
   "id": "77aff22a",
   "cell_type": "markdown",
   "source": [
    "Now Visualize losses."
   ],
   "metadata": {
    "id": "77aff22a",
    "pycharm": {
     "name": "#%% md\n"
    }
   }
  },
  {
   "id": "c313615f",
   "cell_type": "code",
   "source": [
    "# Plot the losses\n",
    "plt.figure(figsize=(8,5))\n",
    "plt.plot(range(1, len(train_losses)+1), train_losses, label='Train Loss')\n",
    "plt.plot(range(1, len(val_losses)+1), val_losses, label='Val Loss')\n",
    "plt.xlabel('Epoch')\n",
    "plt.ylabel('Loss')\n",
    "plt.title('Residual Attention UNet Losses')\n",
    "plt.legend()\n",
    "plt.grid(True)\n",
    "plt.show()"
   ],
   "metadata": {
    "id": "c313615f",
    "outputId": "b966b557-6198-4a92-9acb-c9fd37dbaa4c",
    "trusted": true,
    "execution": {
     "iopub.status.busy": "2025-09-13T12:32:19.356540Z",
     "iopub.execute_input": "2025-09-13T12:32:19.356829Z",
     "iopub.status.idle": "2025-09-13T12:32:19.567196Z",
     "shell.execute_reply.started": "2025-09-13T12:32:19.356811Z",
     "shell.execute_reply": "2025-09-13T12:32:19.566485Z"
    },
    "pycharm": {
     "name": "#%%\n"
    }
   },
   "outputs": [
    {
     "output_type": "display_data",
     "data": {
      "text/plain": "<Figure size 800x500 with 1 Axes>",
      "image/png": "[encoded data removed]"
     },
     "metadata": {}
    }
   ],
   "execution_count": 25
  },
  {
   "id": "69f3e2e4",
   "cell_type": "markdown",
   "source": [
    "### Prediction Visualisation\n",
    "\n",
    "Display several images, their masks, and the predicted mask by your model."
   ],
   "metadata": {
    "id": "69f3e2e4",
    "pycharm": {
     "name": "#%% md\n"
    }
   }
  },
  {
   "id": "114b323d",
   "cell_type": "code",
   "source": [
    "def visualize_image_mask_prediction(images, masks, predictions, n=5):\n",
    "    plt.figure(figsize=(12, 4 * n))\n",
    "\n",
    "    for i in range(n):\n",
    "        img = images[i]\n",
    "        msk = masks[i]\n",
    "        prd = predictions[i]\n",
    "\n",
    "        if isinstance(img, torch.Tensor):\n",
    "            img_np = img.detach().cpu().permute(1,2,0).numpy()\n",
    "        elif isinstance(img, str):\n",
    "            img_np = np.array(Image.open(img).convert('RGB').resize(IMAGE_SIZE)) / 255.0\n",
    "        else:\n",
    "            img_np = np.array(img)\n",
    "\n",
    "        if isinstance(msk, torch.Tensor):\n",
    "            msk_np = msk.detach().cpu().squeeze().numpy()\n",
    "        elif isinstance(msk, str):\n",
    "            msk_np = np.array(Image.open(msk).convert('L').resize(IMAGE_SIZE, Image.NEAREST)) / 255.0\n",
    "        else:\n",
    "            msk_np = np.array(msk)\n",
    "\n",
    "        if isinstance(prd, torch.Tensor):\n",
    "            prd_np = prd.detach().cpu().squeeze().numpy()\n",
    "        else:\n",
    "            prd_np = np.array(prd)\n",
    "\n",
    "        plt.subplot(n, 3, 3*i + 1)\n",
    "        plt.imshow(img_np)\n",
    "        plt.axis('off')\n",
    "        plt.title('Image')\n",
    "\n",
    "        plt.subplot(n, 3, 3*i + 2)\n",
    "        plt.imshow(msk_np, cmap='gray')\n",
    "        plt.axis('off')\n",
    "        plt.title('Mask')\n",
    "\n",
    "        plt.subplot(n, 3, 3*i + 3)\n",
    "        plt.imshow((prd_np > 0.5).astype(np.float32), cmap='gray')\n",
    "        plt.axis('off')\n",
    "        plt.title('Prediction')\n",
    "\n",
    "    plt.tight_layout()\n",
    "    plt.show()"
   ],
   "metadata": {
    "id": "114b323d",
    "outputId": "6e1669a3-cc64-4b33-fb8e-054fffd0150d",
    "trusted": true,
    "execution": {
     "iopub.status.busy": "2025-09-13T12:32:19.567933Z",
     "iopub.execute_input": "2025-09-13T12:32:19.568149Z",
     "iopub.status.idle": "2025-09-13T12:32:19.575600Z",
     "shell.execute_reply.started": "2025-09-13T12:32:19.568124Z",
     "shell.execute_reply": "2025-09-13T12:32:19.574970Z"
    },
    "pycharm": {
     "name": "#%%\n"
    }
   },
   "outputs": [],
   "execution_count": 26
  },
  {
   "id": "b8c4c0d0",
   "cell_type": "markdown",
   "source": [],
   "metadata": {
    "id": "b8c4c0d0",
    "pycharm": {
     "name": "#%% md\n"
    }
   }
  }
 ]
}